{
 "cells": [
  {
   "cell_type": "code",
   "execution_count": 117,
   "metadata": {
    "collapsed": false
   },
   "outputs": [],
   "source": [
    "import pandas as pd\n",
    "import matplotlib.pyplot as plt\n",
    "import numpy as np\n",
    "from sklearn import cross_validation\n",
    "from sklearn import preprocessing\n",
    "from sklearn.cross_validation import train_test_split\n",
    "%matplotlib inline"
   ]
  },
  {
   "cell_type": "code",
   "execution_count": 118,
   "metadata": {
    "collapsed": false,
    "scrolled": false
   },
   "outputs": [
    {
     "name": "stdout",
     "output_type": "stream",
     "text": [
      "[[1.00 14.23 1.71 ..., 1.04 3.92 1065.00]\n",
      " [1.00 13.20 1.78 ..., 1.05 3.40 1050.00]\n",
      " [1.00 13.16 2.36 ..., 1.03 3.17 1185.00]\n",
      " ..., \n",
      " [3.00 13.27 4.28 ..., 0.59 1.56 835.00]\n",
      " [3.00 13.17 2.59 ..., 0.60 1.62 840.00]\n",
      " [3.00 14.13 4.10 ..., 0.61 1.60 560.00]]\n"
     ]
    }
   ],
   "source": [
    "#Leyendo los datos de vinos\n",
    "datos = np.loadtxt(open(\"wine.data\",\"r\"),delimiter=\",\",skiprows=0, dtype=np.float64)\n",
    "print datos\n"
   ]
  },
  {
   "cell_type": "code",
   "execution_count": 119,
   "metadata": {
    "collapsed": false
   },
   "outputs": [],
   "source": [
    "# Se cargan los tipos de vinos\n",
    "y_tipos_de_vino = datos[:,0]\n",
    "# Se tienes los 14 atributos de los vinos\n",
    "x_vino = datos[:,1:]\n",
    "Numero_de_elementos = len(x_vino)"
   ]
  },
  {
   "cell_type": "code",
   "execution_count": 120,
   "metadata": {
    "collapsed": false
   },
   "outputs": [
    {
     "name": "stdout",
     "output_type": "stream",
     "text": [
      "('Numero total de muestras (filas):', 178)\n",
      "('Numero total de caracteristicas (columnas):', 13)\n"
     ]
    }
   ],
   "source": [
    "# Imprimiendo información relevante de los datos\n",
    "print('Numero total de muestras (filas):', x_vino.shape[0])\n",
    "print('Numero total de caracteristicas (columnas):', x_vino.shape[1])"
   ]
  },
  {
   "cell_type": "code",
   "execution_count": 121,
   "metadata": {
    "collapsed": false,
    "scrolled": true
   },
   "outputs": [
    {
     "name": "stdout",
     "output_type": "stream",
     "text": [
      "\n",
      "Primera muestra (i.e., Primera fila:\n",
      "Etiqueta de la clase: 1\n",
      "[14.23 1.71 2.43 15.60 127.00 2.80 3.06 0.28 2.29 5.64 1.04 3.92 1065.00]\n",
      "\n"
     ]
    }
   ],
   "source": [
    "# Imprimiendo el primer tipo de vino\n",
    "float_formatter = lambda x: '{:.2f}'.format(x)\n",
    "np.set_printoptions(formatter={'float_kind':float_formatter})\n",
    "print('\\nPrimera muestra (i.e., Primera fila:\\nEtiqueta de la clase: {:d}\\n{:}\\n'\n",
    "          .format(int(y_tipos_de_vino[0]), x_vino[0]))"
   ]
  },
  {
   "cell_type": "code",
   "execution_count": 122,
   "metadata": {
    "collapsed": false
   },
   "outputs": [],
   "source": [
    "X_train, X_test, Y_train, Y_test = train_test_split(x_vino, y_tipos_de_vino, test_size=.2)\n",
    "from sklearn import preprocessing\n",
    "\n",
    "std_scale = preprocessing.StandardScaler().fit(X_train)\n",
    "X_train = std_scale.transform(X_train)\n",
    "X_test = std_scale.transform(X_test)"
   ]
  },
  {
   "cell_type": "markdown",
   "metadata": {},
   "source": [
    "## Kmeans"
   ]
  },
  {
   "cell_type": "code",
   "execution_count": 123,
   "metadata": {
    "collapsed": true
   },
   "outputs": [],
   "source": [
    "from sklearn.cluster import KMeans\n",
    "from sklearn import cluster, datasets\n",
    "from scipy import spatial"
   ]
  },
  {
   "cell_type": "code",
   "execution_count": 124,
   "metadata": {
    "collapsed": false
   },
   "outputs": [],
   "source": [
    "des = sum(spatial.distance.pdist(X_test)**2)/Numero_de_elementos\n",
    "neto=[]"
   ]
  },
  {
   "cell_type": "code",
   "execution_count": 125,
   "metadata": {
    "collapsed": false
   },
   "outputs": [
    {
     "name": "stdout",
     "output_type": "stream",
     "text": [
      "[414.09386111915694, 260.98303889515944, 187.63074250545068, 174.60812961113007, 174.97332774199452, 167.66446447543802, 156.60241435818574, 148.19184990393137, 153.4522221110216, 128.11981316650878, 136.81214799886337, 116.88461130977117, 123.87678546175864, 103.96431459975129, 116.4860105620883, 106.8852513383016, 98.142459429505166, 112.89832999909306, 104.75273869444351]\n"
     ]
    }
   ],
   "source": [
    "for i in range(1,20):\n",
    "    cluster = KMeans(i)\n",
    "    cluster = cluster.fit(X_train)\n",
    "    distancias = cluster.transform(X_test)\n",
    "    ag = 0\n",
    "    for j in range(X_test.shape[0]):\n",
    "        ag+=min(distancias[j,:])**2\n",
    "    neto.append(abs(des-ag)/des*100)\n",
    "x = range(1,20)\n",
    "print neto"
   ]
  },
  {
   "cell_type": "code",
   "execution_count": 126,
   "metadata": {
    "collapsed": false
   },
   "outputs": [
    {
     "data": {
      "text/plain": [
       "<matplotlib.text.Text at 0x7f7486431150>"
      ]
     },
     "execution_count": 126,
     "metadata": {},
     "output_type": "execute_result"
    },
    {
     "data": {
      "image/png": "[encoded data removed]",
      "text/plain": [
       "<matplotlib.figure.Figure at 0x7f74864be890>"
      ]
     },
     "metadata": {},
     "output_type": "display_data"
    }
   ],
   "source": [
    "figure = plt.figure(1)\n",
    "plt.plot(x , neto)\n",
    "plt.scatter(x, neto)\n",
    "plt.xlabel(\"x\")\n",
    "plt.ylabel(\"Neto\")"
   ]
  },
  {
   "cell_type": "markdown",
   "metadata": {},
   "source": [
    "## Random forest"
   ]
  },
  {
   "cell_type": "code",
   "execution_count": 127,
   "metadata": {
    "collapsed": true
   },
   "outputs": [],
   "source": [
    "#Tomado del ejemplo desarrolado en clase para Boston\n",
    "from sklearn.ensemble import RandomForestClassifier"
   ]
  },
  {
   "cell_type": "code",
   "execution_count": 128,
   "metadata": {
    "collapsed": false
   },
   "outputs": [
    {
     "data": {
      "text/plain": [
       "RandomForestClassifier(bootstrap=True, class_weight=None, criterion='gini',\n",
       "            max_depth=None, max_features='auto', max_leaf_nodes=None,\n",
       "            min_samples_leaf=1, min_samples_split=2,\n",
       "            min_weight_fraction_leaf=0.0, n_estimators=4, n_jobs=1,\n",
       "            oob_score=False, random_state=None, verbose=0,\n",
       "            warm_start=False)"
      ]
     },
     "execution_count": 128,
     "metadata": {},
     "output_type": "execute_result"
    }
   ],
   "source": [
    "rf = RandomForestClassifier(n_estimators=4)\n",
    "rf.fit(X_train, Y_train)"
   ]
  },
  {
   "cell_type": "code",
   "execution_count": 129,
   "metadata": {
    "collapsed": false
   },
   "outputs": [],
   "source": [
    "total_arboles = 20\n",
    "suma_cuadrado = np.zeros(total_arboles)\n",
    "for j in range(total_arboles):\n",
    "    rf = RandomForestClassifier(n_estimators=j+1)\n",
    "    rf.fit(X_train[106:], Y_train[106:])\n",
    "    Y_prediction = rf.predict(X_test)\n",
    "    suma_cuadrado[j] = sum((Y_prediction - Y_train[106:])**2)"
   ]
  },
  {
   "cell_type": "code",
   "execution_count": 130,
   "metadata": {
    "collapsed": false
   },
   "outputs": [
    {
     "data": {
      "text/plain": [
       "<matplotlib.text.Text at 0x7f7486352dd0>"
      ]
     },
     "execution_count": 130,
     "metadata": {},
     "output_type": "execute_result"
    },
    {
     "data": {
      "image/png": "[encoded data removed]",
      "text/plain": [
       "<matplotlib.figure.Figure at 0x7f748658da50>"
      ]
     },
     "metadata": {},
     "output_type": "display_data"
    }
   ],
   "source": [
    "plt.plot(suma_cuadrado,\"-o\")\n",
    "plt.xlabel(\"Numero de arboles\")\n",
    "plt.ylabel(\"Suma_cuadrado\")"
   ]
  },
  {
   "cell_type": "markdown",
   "metadata": {},
   "source": [
    "## PCA"
   ]
  },
  {
   "cell_type": "code",
   "execution_count": 131,
   "metadata": {
    "collapsed": true
   },
   "outputs": [],
   "source": [
    "from sklearn.decomposition import PCA"
   ]
  },
  {
   "cell_type": "code",
   "execution_count": 132,
   "metadata": {
    "collapsed": false
   },
   "outputs": [
    {
     "data": {
      "text/plain": [
       "array([0.35, 0.20, 0.11, 0.07, 0.07, 0.05, 0.04, 0.03, 0.02, 0.02, 0.02,\n",
       "       0.01, 0.01])"
      ]
     },
     "execution_count": 132,
     "metadata": {},
     "output_type": "execute_result"
    }
   ],
   "source": [
    "sklearn_pca = PCA(n_components=13)\n",
    "sklearn_transf = sklearn_pca.fit_transform(X_train)\n",
    "sklearn_pca.explained_variance_ratio_"
   ]
  },
  {
   "cell_type": "code",
   "execution_count": 133,
   "metadata": {
    "collapsed": false,
    "scrolled": true
   },
   "outputs": [],
   "source": [
    "from sklearn.decomposition import PCA\n",
    "#Se define el número de componentes\n",
    "sklearn_pca = PCA(n_components=13) \n",
    "sklearn_transf = sklearn_pca.fit_transform(X_train)\n",
    "x_sklearn = sklearn_pca.fit_transform(X_train)"
   ]
  },
  {
   "cell_type": "code",
   "execution_count": 134,
   "metadata": {
    "collapsed": false
   },
   "outputs": [],
   "source": [
    "sklearn_pca = PCA(n_components= 13)\n",
    "sklearn_transf = sklearn_pca.fit_transform(X_train)\n",
    "Y = sklearn_pca.explained_variance_ratio_ \n",
    "C=[] \n",
    "actual=0\n",
    "for k in Y:\n",
    "    actual+=k\n",
    "    C.append(actual)"
   ]
  },
  {
   "cell_type": "code",
   "execution_count": 135,
   "metadata": {
    "collapsed": false
   },
   "outputs": [
    {
     "name": "stdout",
     "output_type": "stream",
     "text": [
      "[0.35 0.20 0.11 0.07 0.07 0.05 0.04 0.03 0.02 0.02 0.02 0.01 0.01]\n"
     ]
    }
   ],
   "source": [
    "print Y #(sklearn_pca.explained_variance_ratio)"
   ]
  },
  {
   "cell_type": "code",
   "execution_count": 136,
   "metadata": {
    "collapsed": false
   },
   "outputs": [
    {
     "name": "stdout",
     "output_type": "stream",
     "text": [
      "Numero de componentes 1 Porcentaje de la varianza= 0.351279600169\n",
      "Numero de componentes 2 Porcentaje de la varianza= 0.552827090704\n",
      "Numero de componentes 3 Porcentaje de la varianza= 0.665506287793\n",
      "Numero de componentes 4 Porcentaje de la varianza= 0.73666619068\n",
      "Numero de componentes 5 Porcentaje de la varianza= 0.803210334743\n",
      "Numero de componentes 6 Porcentaje de la varianza= 0.853172690416\n",
      "Numero de componentes 7 Porcentaje de la varianza= 0.893906634734\n",
      "Numero de componentes 8 Porcentaje de la varianza= 0.921935611839\n",
      "Numero de componentes 9 Porcentaje de la varianza= 0.942948106316\n",
      "Numero de componentes 10 Porcentaje de la varianza= 0.962613306489\n",
      "Numero de componentes 11 Porcentaje de la varianza= 0.979639522681\n",
      "Numero de componentes 12 Porcentaje de la varianza= 0.99168177007\n",
      "Numero de componentes 13 Porcentaje de la varianza= 1.0\n"
     ]
    }
   ],
   "source": [
    "suma=0\n",
    "for k in range(len(Y)):\n",
    "    suma+=Y[k]\n",
    "    print \"Numero de componentes\",k+1, \"Porcentaje de la varianza=\",suma"
   ]
  },
  {
   "cell_type": "code",
   "execution_count": 137,
   "metadata": {
    "collapsed": false
   },
   "outputs": [
    {
     "data": {
      "text/plain": [
       "<matplotlib.text.Text at 0x7f74862ffa10>"
      ]
     },
     "execution_count": 137,
     "metadata": {},
     "output_type": "execute_result"
    },
    {
     "data": {
      "image/png": "[encoded data removed]",
      "text/plain": [
       "<matplotlib.figure.Figure at 0x7f74862dde50>"
      ]
     },
     "metadata": {},
     "output_type": "display_data"
    }
   ],
   "source": [
    "X = np.linspace(1.0, 13.0, num = 13)\n",
    "plt.plot(X, C,\"-o\")\n",
    "plt.scatter(X, C)\n",
    "plt.xlabel(\"Numero de componentes\")\n",
    "plt.ylabel(\"Cuanto describe un grupo de componentes\")"
   ]
  },
  {
   "cell_type": "code",
   "execution_count": 138,
   "metadata": {
    "collapsed": false
   },
   "outputs": [
    {
     "data": {
      "text/plain": [
       "<matplotlib.text.Text at 0x7f748623bb90>"
      ]
     },
     "execution_count": 138,
     "metadata": {},
     "output_type": "execute_result"
    },
    {
     "data": {
      "image/png": "[encoded data removed]",
      "text/plain": [
       "<matplotlib.figure.Figure at 0x7f748622d410>"
      ]
     },
     "metadata": {},
     "output_type": "display_data"
    }
   ],
   "source": [
    "plt.plot(X, Y)\n",
    "plt.scatter(X, Y)\n",
    "plt.xlabel(\"Numero de componentes\")\n",
    "plt.ylabel(\"Explicacion de cada componente\")"
   ]
  }
 ],
 "metadata": {
  "kernelspec": {
   "display_name": "Python 2",
   "language": "python",
   "name": "python2"
  },
  "language_info": {
   "codemirror_mode": {
    "name": "ipython",
    "version": 2
   },
   "file_extension": ".py",
   "mimetype": "text/x-python",
   "name": "python",
   "nbconvert_exporter": "python",
   "pygments_lexer": "ipython2",
   "version": "2.7.6"
  }
 },
 "nbformat": 4,
 "nbformat_minor": 0
}
